{
 "cells": [
  {
   "cell_type": "code",
   "execution_count": 1,
   "metadata": {},
   "outputs": [],
   "source": [
    "import ollama\n",
    "import json\n",
    "import base64"
   ]
  },
  {
   "cell_type": "code",
   "execution_count": 2,
   "metadata": {},
   "outputs": [],
   "source": [
    "model='llama3.1'\n",
    "\n",
    "options = {\n",
    "    'num_predict':-1,\n",
    "    'temperature':0.2,\n",
    "    'top_k':100,\n",
    "    'top_p':0.8\n",
    "}"
   ]
  },
  {
   "cell_type": "code",
   "execution_count": 3,
   "metadata": {},
   "outputs": [
    {
     "name": "stdout",
     "output_type": "stream",
     "text": [
      "The question of the meaning of life is one of the most profound and enduring questions in human history. It has been debated by philosophers, theologians, scientists, and thinkers across cultures for centuries.\n",
      "\n",
      "There is no one definitive answer to this question, as it depends on various perspectives, beliefs, and values. However, here are some possible interpretations:\n",
      "\n",
      "1. **Existentialist perspective**: From an existentialist viewpoint, the meaning of life is not predetermined or inherent in existence itself. Instead, individuals must create their own purpose and meaning through their experiences, choices, and actions.\n",
      "2. **Religious perspectives**: Many religious traditions offer answers to this question, often rooted in a higher power or divine plan. For example:\n",
      "\t*"
     ]
    }
   ],
   "source": [
    "stream = ollama.generate(model=model,\n",
    "                         options=options,\n",
    "                         prompt='What is the meaning of life?',\n",
    "                         #images=['data/IMG_0181.png'],\n",
    "                         stream=True\n",
    "                         )\n",
    "\n",
    "for chunk in stream:\n",
    "    print(chunk['response'], end='', flush=True)"
   ]
  },
  {
   "cell_type": "markdown",
   "metadata": {},
   "source": [
    "# This is for RAG."
   ]
  },
  {
   "cell_type": "code",
   "execution_count": 1,
   "metadata": {},
   "outputs": [],
   "source": [
    "import langchain.vectorstores.chroma as chroma"
   ]
  },
  {
   "cell_type": "code",
   "execution_count": null,
   "metadata": {},
   "outputs": [],
   "source": []
  }
 ],
 "metadata": {
  "kernelspec": {
   "display_name": "test_env",
   "language": "python",
   "name": "python3"
  },
  "language_info": {
   "codemirror_mode": {
    "name": "ipython",
    "version": 3
   },
   "file_extension": ".py",
   "mimetype": "text/x-python",
   "name": "python",
   "nbconvert_exporter": "python",
   "pygments_lexer": "ipython3",
   "version": "3.12.1"
  }
 },
 "nbformat": 4,
 "nbformat_minor": 2
}
